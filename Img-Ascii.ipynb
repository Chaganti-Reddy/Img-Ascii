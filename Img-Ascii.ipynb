{
 "cells": [
  {
   "cell_type": "code",
   "execution_count": 1,
   "id": "558273e3-cffc-4788-9791-7c347ea1ffec",
   "metadata": {},
   "outputs": [],
   "source": [
    "import PIL.Image\n",
    "from tkinter import *\n",
    "from tkinter.filedialog import askopenfilename\n",
    "\n",
    "ascii_characters_by_surface = \"`^\\\",:;Il!i~+_-?][}{1)(|\\\\/tfjrxnuvczXYUJCLQ0OZmwqpdbkhao*#MW&8%B@$\""
   ]
  },
  {
   "cell_type": "code",
   "execution_count": 2,
   "id": "2380bedb-5d9f-4cb7-9758-a4086067cabd",
   "metadata": {},
   "outputs": [],
   "source": [
    "def main():\n",
    "    image = PIL.Image.open('./assets/im2.jpg')\n",
    "    # you can first resize the image if needed\n",
    "    # image = image.resize((width, height))\n",
    "    ascii_art = convert_to_ascii_art(image)\n",
    "    save_as_text(ascii_art)"
   ]
  },
  {
   "cell_type": "code",
   "execution_count": 3,
   "id": "2c48a7b0-6eb1-4211-b669-bd8087b6de6f",
   "metadata": {},
   "outputs": [],
   "source": [
    "def convert_to_ascii_art(image):\n",
    "    ascii_art = []\n",
    "    (width, height) = image.size\n",
    "    for y in range(0, height - 1):\n",
    "        line = ''\n",
    "        for x in range(0, width - 1):\n",
    "            px = image.getpixel((x, y))\n",
    "            line += convert_pixel_to_character(px)\n",
    "        ascii_art.append(line)\n",
    "    return ascii_art"
   ]
  },
  {
   "cell_type": "code",
   "execution_count": 4,
   "id": "88f62dab-54ce-4257-882d-7c787b2f7690",
   "metadata": {},
   "outputs": [],
   "source": [
    "def convert_pixel_to_character(pixel):\n",
    "    (r, g, b) = pixel\n",
    "    pixel_brightness = r + g + b\n",
    "    max_brightness = 255 * 3\n",
    "    brightness_weight = len(ascii_characters_by_surface) / max_brightness\n",
    "    index = int(pixel_brightness * brightness_weight) - 1\n",
    "    return ascii_characters_by_surface[index]"
   ]
  },
  {
   "cell_type": "code",
   "execution_count": 5,
   "id": "2b7b210d-17a9-412c-bec8-8cb756d9fc7f",
   "metadata": {},
   "outputs": [],
   "source": [
    "def save_as_text(ascii_art):\n",
    "    with open(\"image.txt\", \"w\") as file:\n",
    "        for line in ascii_art:\n",
    "            file.write(line)\n",
    "            file.write('\\n')\n",
    "        file.close()"
   ]
  },
  {
   "cell_type": "code",
   "execution_count": 6,
   "id": "243af0ec-a8c7-43fe-9312-84eddb92c56f",
   "metadata": {},
   "outputs": [],
   "source": [
    "if __name__ == '__main__':\n",
    "    main()"
   ]
  },
  {
   "cell_type": "code",
   "execution_count": null,
   "id": "4bbdfd4c-a2db-4f87-83c7-ebde95ba7add",
   "metadata": {},
   "outputs": [],
   "source": []
  }
 ],
 "metadata": {
  "kernelspec": {
   "display_name": "Python 3 (ipykernel)",
   "language": "python",
   "name": "python3"
  },
  "language_info": {
   "codemirror_mode": {
    "name": "ipython",
    "version": 3
   },
   "file_extension": ".py",
   "mimetype": "text/x-python",
   "name": "python",
   "nbconvert_exporter": "python",
   "pygments_lexer": "ipython3",
   "version": "3.10.4"
  },
  "widgets": {
   "application/vnd.jupyter.widget-state+json": {
    "state": {},
    "version_major": 2,
    "version_minor": 0
   }
  }
 },
 "nbformat": 4,
 "nbformat_minor": 5
}
